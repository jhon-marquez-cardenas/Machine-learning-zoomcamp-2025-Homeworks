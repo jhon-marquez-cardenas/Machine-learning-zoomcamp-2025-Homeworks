{
 "cells": [
  {
   "cell_type": "markdown",
   "id": "be161be6-00e6-46e4-829c-b41cd776cd49",
   "metadata": {},
   "source": [
    "# Set up the environment"
   ]
  },
  {
   "cell_type": "code",
   "execution_count": 1,
   "id": "44bcc52b-2ca6-4e87-9ba5-7c2915fec134",
   "metadata": {},
   "outputs": [
    {
     "name": "stdout",
     "output_type": "stream",
     "text": [
      "3.12.1 (main, Jul 10 2025, 11:57:50) [GCC 13.3.0]\n"
     ]
    }
   ],
   "source": [
    "import sys\n",
    "print(sys.version)"
   ]
  },
  {
   "cell_type": "code",
   "execution_count": 3,
   "id": "ff452614-899d-4d66-8221-c8a99ff52731",
   "metadata": {},
   "outputs": [],
   "source": [
    "import pandas as pd\n",
    "import numpy as np\n",
    "\n",
    "import seaborn as sns\n",
    "from matplotlib import pyplot as plt\n",
    "%matplotlib inline"
   ]
  },
  {
   "cell_type": "markdown",
   "id": "c097c025-1482-41c9-a188-7d99fe43d390",
   "metadata": {},
   "source": [
    "# Q1. Pandas version"
   ]
  },
  {
   "cell_type": "markdown",
   "id": "9a55b1b2-6a4c-4445-9d96-cddc1119027e",
   "metadata": {},
   "source": [
    "What version of Pandas did you install?"
   ]
  },
  {
   "cell_type": "code",
   "execution_count": 4,
   "id": "25c716b8-8b4d-49f5-9e36-6c044e58b3eb",
   "metadata": {},
   "outputs": [],
   "source": [
    "PV = pd.__version__"
   ]
  },
  {
   "cell_type": "code",
   "execution_count": 6,
   "id": "836867f1-be21-46c2-9ad1-fb470ec3ca80",
   "metadata": {},
   "outputs": [
    {
     "name": "stdout",
     "output_type": "stream",
     "text": [
      "Pandas Version installed: 2.3.1\n"
     ]
    }
   ],
   "source": [
    "print(f\"Pandas Version installed: {PV}\")"
   ]
  },
  {
   "cell_type": "markdown",
   "id": "9aad2dac-7191-46ab-838e-45955c9efef4",
   "metadata": {},
   "source": [
    "# Getting the data"
   ]
  },
  {
   "cell_type": "code",
   "execution_count": 5,
   "id": "5bf2b242-1ea7-4c4b-be27-55cd0d975a7b",
   "metadata": {},
   "outputs": [],
   "source": [
    "df = pd.read_csv('https://raw.githubusercontent.com/alexeygrigorev/datasets/master/car_fuel_efficiency.csv')"
   ]
  },
  {
   "cell_type": "code",
   "execution_count": 7,
   "id": "1527e78a-615c-49d9-8e35-f26eb1b1a896",
   "metadata": {},
   "outputs": [
    {
     "data": {
      "text/html": [
       "<div>\n",
       "<style scoped>\n",
       "    .dataframe tbody tr th:only-of-type {\n",
       "        vertical-align: middle;\n",
       "    }\n",
       "\n",
       "    .dataframe tbody tr th {\n",
       "        vertical-align: top;\n",
       "    }\n",
       "\n",
       "    .dataframe thead th {\n",
       "        text-align: right;\n",
       "    }\n",
       "</style>\n",
       "<table border=\"1\" class=\"dataframe\">\n",
       "  <thead>\n",
       "    <tr style=\"text-align: right;\">\n",
       "      <th></th>\n",
       "      <th>engine_displacement</th>\n",
       "      <th>num_cylinders</th>\n",
       "      <th>horsepower</th>\n",
       "      <th>vehicle_weight</th>\n",
       "      <th>acceleration</th>\n",
       "      <th>model_year</th>\n",
       "      <th>origin</th>\n",
       "      <th>fuel_type</th>\n",
       "      <th>drivetrain</th>\n",
       "      <th>num_doors</th>\n",
       "      <th>fuel_efficiency_mpg</th>\n",
       "    </tr>\n",
       "  </thead>\n",
       "  <tbody>\n",
       "    <tr>\n",
       "      <th>0</th>\n",
       "      <td>170</td>\n",
       "      <td>3.0</td>\n",
       "      <td>159.0</td>\n",
       "      <td>3413.433759</td>\n",
       "      <td>17.7</td>\n",
       "      <td>2003</td>\n",
       "      <td>Europe</td>\n",
       "      <td>Gasoline</td>\n",
       "      <td>All-wheel drive</td>\n",
       "      <td>0.0</td>\n",
       "      <td>13.231729</td>\n",
       "    </tr>\n",
       "    <tr>\n",
       "      <th>1</th>\n",
       "      <td>130</td>\n",
       "      <td>5.0</td>\n",
       "      <td>97.0</td>\n",
       "      <td>3149.664934</td>\n",
       "      <td>17.8</td>\n",
       "      <td>2007</td>\n",
       "      <td>USA</td>\n",
       "      <td>Gasoline</td>\n",
       "      <td>Front-wheel drive</td>\n",
       "      <td>0.0</td>\n",
       "      <td>13.688217</td>\n",
       "    </tr>\n",
       "    <tr>\n",
       "      <th>2</th>\n",
       "      <td>170</td>\n",
       "      <td>NaN</td>\n",
       "      <td>78.0</td>\n",
       "      <td>3079.038997</td>\n",
       "      <td>15.1</td>\n",
       "      <td>2018</td>\n",
       "      <td>Europe</td>\n",
       "      <td>Gasoline</td>\n",
       "      <td>Front-wheel drive</td>\n",
       "      <td>0.0</td>\n",
       "      <td>14.246341</td>\n",
       "    </tr>\n",
       "    <tr>\n",
       "      <th>3</th>\n",
       "      <td>220</td>\n",
       "      <td>4.0</td>\n",
       "      <td>NaN</td>\n",
       "      <td>2542.392402</td>\n",
       "      <td>20.2</td>\n",
       "      <td>2009</td>\n",
       "      <td>USA</td>\n",
       "      <td>Diesel</td>\n",
       "      <td>All-wheel drive</td>\n",
       "      <td>2.0</td>\n",
       "      <td>16.912736</td>\n",
       "    </tr>\n",
       "    <tr>\n",
       "      <th>4</th>\n",
       "      <td>210</td>\n",
       "      <td>1.0</td>\n",
       "      <td>140.0</td>\n",
       "      <td>3460.870990</td>\n",
       "      <td>14.4</td>\n",
       "      <td>2009</td>\n",
       "      <td>Europe</td>\n",
       "      <td>Gasoline</td>\n",
       "      <td>All-wheel drive</td>\n",
       "      <td>2.0</td>\n",
       "      <td>12.488369</td>\n",
       "    </tr>\n",
       "  </tbody>\n",
       "</table>\n",
       "</div>"
      ],
      "text/plain": [
       "   engine_displacement  num_cylinders  horsepower  vehicle_weight  \\\n",
       "0                  170            3.0       159.0     3413.433759   \n",
       "1                  130            5.0        97.0     3149.664934   \n",
       "2                  170            NaN        78.0     3079.038997   \n",
       "3                  220            4.0         NaN     2542.392402   \n",
       "4                  210            1.0       140.0     3460.870990   \n",
       "\n",
       "   acceleration  model_year  origin fuel_type         drivetrain  num_doors  \\\n",
       "0          17.7        2003  Europe  Gasoline    All-wheel drive        0.0   \n",
       "1          17.8        2007     USA  Gasoline  Front-wheel drive        0.0   \n",
       "2          15.1        2018  Europe  Gasoline  Front-wheel drive        0.0   \n",
       "3          20.2        2009     USA    Diesel    All-wheel drive        2.0   \n",
       "4          14.4        2009  Europe  Gasoline    All-wheel drive        2.0   \n",
       "\n",
       "   fuel_efficiency_mpg  \n",
       "0            13.231729  \n",
       "1            13.688217  \n",
       "2            14.246341  \n",
       "3            16.912736  \n",
       "4            12.488369  "
      ]
     },
     "execution_count": 7,
     "metadata": {},
     "output_type": "execute_result"
    }
   ],
   "source": [
    "df.head()"
   ]
  },
  {
   "cell_type": "markdown",
   "id": "0549afc8-06d0-4ab7-8a47-b2240568fb46",
   "metadata": {},
   "source": [
    "# Q2. Records count"
   ]
  },
  {
   "cell_type": "markdown",
   "id": "6f1f644f-6f08-4248-895f-b5d119826e44",
   "metadata": {},
   "source": [
    "How many records are in the dataset?"
   ]
  },
  {
   "cell_type": "code",
   "execution_count": 8,
   "id": "b9543a3c-458b-43d9-8dbb-a9bdde0b280b",
   "metadata": {},
   "outputs": [],
   "source": [
    "records = len(df)"
   ]
  },
  {
   "cell_type": "code",
   "execution_count": 9,
   "id": "a1f04609-24f2-49df-b800-bfd30b9f2404",
   "metadata": {},
   "outputs": [
    {
     "name": "stdout",
     "output_type": "stream",
     "text": [
      "the dataset has: 9704 records\n"
     ]
    }
   ],
   "source": [
    "print(f\"the dataset has: {records} records\")"
   ]
  },
  {
   "cell_type": "markdown",
   "id": "25da274e-08ff-4f6f-9235-5bd5e80477d2",
   "metadata": {},
   "source": [
    "# Q3. Fuel Types"
   ]
  },
  {
   "cell_type": "markdown",
   "id": "abd192e5-ca19-4576-b09b-a0dcbf238ad9",
   "metadata": {},
   "source": [
    "How many fuel types are presented in the dataset?"
   ]
  },
  {
   "cell_type": "code",
   "execution_count": 10,
   "id": "93193fea-753f-4a52-9aba-25e69ad676ac",
   "metadata": {},
   "outputs": [],
   "source": [
    "fuelTypes = df.fuel_type.nunique()"
   ]
  },
  {
   "cell_type": "code",
   "execution_count": 11,
   "id": "fee21f24-360c-4d98-9cdc-2e94c18bce1b",
   "metadata": {},
   "outputs": [
    {
     "name": "stdout",
     "output_type": "stream",
     "text": [
      "The dataset has 2 fuel Types\n"
     ]
    }
   ],
   "source": [
    "print(f\"The dataset has {fuelTypes} fuel Types\")"
   ]
  },
  {
   "cell_type": "markdown",
   "id": "92112f80-bd52-44a4-907c-6558189e21e2",
   "metadata": {},
   "source": [
    "# Q4. Missing values"
   ]
  },
  {
   "cell_type": "markdown",
   "id": "c451c7ec-b613-463a-ae51-b22d8d098744",
   "metadata": {},
   "source": [
    "How many columns in the dataset have missing values?"
   ]
  },
  {
   "cell_type": "code",
   "execution_count": 12,
   "id": "d8644d46-ae89-4ff7-b3a4-6110245358e3",
   "metadata": {},
   "outputs": [],
   "source": [
    "ncWMV = df.isnull().any().sum()"
   ]
  },
  {
   "cell_type": "code",
   "execution_count": 13,
   "id": "339a572d-4245-4dda-9302-d59f2970c20b",
   "metadata": {},
   "outputs": [
    {
     "name": "stdout",
     "output_type": "stream",
     "text": [
      "The dataset has 4 columns with missing values\n"
     ]
    }
   ],
   "source": [
    "print(f\"The dataset has {ncWMV} columns with missing values\")"
   ]
  },
  {
   "cell_type": "markdown",
   "id": "13a77ed7-c7db-4f63-a525-fd6e4cd7cb14",
   "metadata": {},
   "source": [
    "# Q5. Max fuel efficiency"
   ]
  },
  {
   "cell_type": "markdown",
   "id": "175ef0d9-8a72-46ce-9ba1-62f40650665f",
   "metadata": {},
   "source": [
    "What's the maximum fuel efficiency of cars from Asia?"
   ]
  },
  {
   "cell_type": "code",
   "execution_count": 14,
   "id": "12e32f4e-4da6-4642-b5ee-4b819443ca78",
   "metadata": {},
   "outputs": [
    {
     "data": {
      "text/plain": [
       "array(['Europe', 'USA', 'Asia'], dtype=object)"
      ]
     },
     "execution_count": 14,
     "metadata": {},
     "output_type": "execute_result"
    }
   ],
   "source": [
    "df.origin.unique()"
   ]
  },
  {
   "cell_type": "code",
   "execution_count": 15,
   "id": "c1552c7c-db71-42c9-81b2-aa2ba4104bb3",
   "metadata": {},
   "outputs": [
    {
     "data": {
      "text/plain": [
       "origin\n",
       "Asia      23.759123\n",
       "Europe    25.967222\n",
       "USA       24.971452\n",
       "Name: fuel_efficiency_mpg, dtype: float64"
      ]
     },
     "execution_count": 15,
     "metadata": {},
     "output_type": "execute_result"
    }
   ],
   "source": [
    "df.groupby('origin').fuel_efficiency_mpg.max()"
   ]
  },
  {
   "cell_type": "code",
   "execution_count": 16,
   "id": "4797b7e0-34df-4f70-bacb-10e97b4a738a",
   "metadata": {},
   "outputs": [
    {
     "name": "stdout",
     "output_type": "stream",
     "text": [
      "The maximum fuel efficiency of cars from Asia is 23.759122836520497\n"
     ]
    }
   ],
   "source": [
    "mask = df['origin'] == \"Asia\"\n",
    "vMax = df.loc[mask, 'fuel_efficiency_mpg'].max()\n",
    "print(f\"The maximum fuel efficiency of cars from Asia is {vMax}\")"
   ]
  },
  {
   "cell_type": "markdown",
   "id": "38f27ed0-f571-4849-bc9c-2ec43177821e",
   "metadata": {},
   "source": [
    "# Q6. Median value of horsepower"
   ]
  },
  {
   "cell_type": "markdown",
   "id": "6262a2e5-d34a-49a8-b3ea-1250005f5500",
   "metadata": {},
   "source": [
    "Find the median value of the horsepower column in the dataset"
   ]
  },
  {
   "cell_type": "code",
   "execution_count": 17,
   "id": "3edf5388-791b-45f1-908c-cfa9b16bbb2f",
   "metadata": {},
   "outputs": [],
   "source": [
    "median_value_nulls = df.horsepower.mean()"
   ]
  },
  {
   "cell_type": "code",
   "execution_count": 18,
   "id": "9f753b04-c27f-4eb1-aa11-fa77ced58de8",
   "metadata": {},
   "outputs": [
    {
     "name": "stdout",
     "output_type": "stream",
     "text": [
      "The median value of the horsepower with nulls is 149.65729212983547\n"
     ]
    }
   ],
   "source": [
    "print(f\"The median value of the horsepower with nulls is {median_value_nulls}\")"
   ]
  },
  {
   "cell_type": "markdown",
   "id": "34ae2262-6670-4d1e-b059-dcfbb469a1df",
   "metadata": {},
   "source": [
    "Next, calculate the most frequent value of the same horsepower column."
   ]
  },
  {
   "cell_type": "code",
   "execution_count": 19,
   "id": "5c82fbb1-a743-4b32-b5d4-c45e1cc1b285",
   "metadata": {},
   "outputs": [],
   "source": [
    "most_freq_hp = df.horsepower.mode()[0]"
   ]
  },
  {
   "cell_type": "markdown",
   "id": "f6b2837d-a997-43af-9770-b6616be470b2",
   "metadata": {},
   "source": [
    "Use the fillna method to fill the missing values in the horsepower column with the most frequent value from the previous step."
   ]
  },
  {
   "cell_type": "code",
   "execution_count": 20,
   "id": "26136a23-933f-43ef-9c77-dbe0f9f139f9",
   "metadata": {},
   "outputs": [
    {
     "name": "stderr",
     "output_type": "stream",
     "text": [
      "/tmp/ipykernel_12718/2789575879.py:1: FutureWarning: A value is trying to be set on a copy of a DataFrame or Series through chained assignment using an inplace method.\n",
      "The behavior will change in pandas 3.0. This inplace method will never work because the intermediate object on which we are setting values always behaves as a copy.\n",
      "\n",
      "For example, when doing 'df[col].method(value, inplace=True)', try using 'df.method({col: value}, inplace=True)' or df[col] = df[col].method(value) instead, to perform the operation inplace on the original object.\n",
      "\n",
      "\n",
      "  df.horsepower.fillna(most_freq_hp, inplace=True )\n"
     ]
    }
   ],
   "source": [
    "df.horsepower.fillna(most_freq_hp, inplace=True )"
   ]
  },
  {
   "cell_type": "markdown",
   "id": "dd9fe4f8-5627-439c-af5f-7dd0a75525f4",
   "metadata": {},
   "source": [
    "Now, calculate the median value of horsepower once again."
   ]
  },
  {
   "cell_type": "code",
   "execution_count": 21,
   "id": "0c3357f2-94ef-42d3-bec9-df85cfad11da",
   "metadata": {},
   "outputs": [],
   "source": [
    "median_value_without_nulls = df.horsepower.mean()"
   ]
  },
  {
   "cell_type": "code",
   "execution_count": 22,
   "id": "7b047028-3d2b-4940-81b8-28257dba50a5",
   "metadata": {},
   "outputs": [
    {
     "name": "stdout",
     "output_type": "stream",
     "text": [
      "The median value of the horsepower without nulls is 149.82821516900248\n"
     ]
    }
   ],
   "source": [
    "print(f\"The median value of the horsepower without nulls is {median_value_without_nulls}\")"
   ]
  },
  {
   "cell_type": "markdown",
   "id": "3c3f869a-6430-46e4-80cc-6259c589ba0f",
   "metadata": {},
   "source": [
    "R/ The median value of the horsepower increased"
   ]
  },
  {
   "cell_type": "markdown",
   "id": "677c4d64-4cce-4938-92d5-3b381954bad5",
   "metadata": {},
   "source": [
    "# Q7. Sum of weights"
   ]
  },
  {
   "cell_type": "markdown",
   "id": "6ea72a9c-4bed-46b4-8d29-79e77c2e6bfa",
   "metadata": {},
   "source": [
    "Select all the cars from Asia"
   ]
  },
  {
   "cell_type": "code",
   "execution_count": 23,
   "id": "de7428c9-b5c5-41ff-bc88-d120c99779a1",
   "metadata": {},
   "outputs": [],
   "source": [
    "carsAsia = df[df['origin'] == 'Asia']"
   ]
  },
  {
   "cell_type": "markdown",
   "id": "4f772291-afda-4275-a149-f139d29a1721",
   "metadata": {},
   "source": [
    "Select only columns vehicle_weight and model_year"
   ]
  },
  {
   "cell_type": "code",
   "execution_count": 24,
   "id": "75347cca-85cf-46bf-b662-d466435ac098",
   "metadata": {},
   "outputs": [],
   "source": [
    "carsAsia_filt = carsAsia[['vehicle_weight','model_year']]"
   ]
  },
  {
   "cell_type": "code",
   "execution_count": 25,
   "id": "7366483a-7448-42e7-acf4-00f9faa24f23",
   "metadata": {},
   "outputs": [
    {
     "data": {
      "text/html": [
       "<div>\n",
       "<style scoped>\n",
       "    .dataframe tbody tr th:only-of-type {\n",
       "        vertical-align: middle;\n",
       "    }\n",
       "\n",
       "    .dataframe tbody tr th {\n",
       "        vertical-align: top;\n",
       "    }\n",
       "\n",
       "    .dataframe thead th {\n",
       "        text-align: right;\n",
       "    }\n",
       "</style>\n",
       "<table border=\"1\" class=\"dataframe\">\n",
       "  <thead>\n",
       "    <tr style=\"text-align: right;\">\n",
       "      <th></th>\n",
       "      <th>vehicle_weight</th>\n",
       "      <th>model_year</th>\n",
       "    </tr>\n",
       "  </thead>\n",
       "  <tbody>\n",
       "    <tr>\n",
       "      <th>8</th>\n",
       "      <td>2714.219310</td>\n",
       "      <td>2016</td>\n",
       "    </tr>\n",
       "    <tr>\n",
       "      <th>12</th>\n",
       "      <td>2783.868974</td>\n",
       "      <td>2010</td>\n",
       "    </tr>\n",
       "    <tr>\n",
       "      <th>14</th>\n",
       "      <td>3582.687368</td>\n",
       "      <td>2007</td>\n",
       "    </tr>\n",
       "    <tr>\n",
       "      <th>20</th>\n",
       "      <td>2231.808142</td>\n",
       "      <td>2011</td>\n",
       "    </tr>\n",
       "    <tr>\n",
       "      <th>21</th>\n",
       "      <td>2659.431451</td>\n",
       "      <td>2016</td>\n",
       "    </tr>\n",
       "    <tr>\n",
       "      <th>...</th>\n",
       "      <td>...</td>\n",
       "      <td>...</td>\n",
       "    </tr>\n",
       "    <tr>\n",
       "      <th>9688</th>\n",
       "      <td>3948.404625</td>\n",
       "      <td>2018</td>\n",
       "    </tr>\n",
       "    <tr>\n",
       "      <th>9692</th>\n",
       "      <td>3680.341381</td>\n",
       "      <td>2016</td>\n",
       "    </tr>\n",
       "    <tr>\n",
       "      <th>9693</th>\n",
       "      <td>2545.070139</td>\n",
       "      <td>2012</td>\n",
       "    </tr>\n",
       "    <tr>\n",
       "      <th>9698</th>\n",
       "      <td>3107.427820</td>\n",
       "      <td>2005</td>\n",
       "    </tr>\n",
       "    <tr>\n",
       "      <th>9703</th>\n",
       "      <td>2908.043477</td>\n",
       "      <td>2005</td>\n",
       "    </tr>\n",
       "  </tbody>\n",
       "</table>\n",
       "<p>3247 rows × 2 columns</p>\n",
       "</div>"
      ],
      "text/plain": [
       "      vehicle_weight  model_year\n",
       "8        2714.219310        2016\n",
       "12       2783.868974        2010\n",
       "14       3582.687368        2007\n",
       "20       2231.808142        2011\n",
       "21       2659.431451        2016\n",
       "...              ...         ...\n",
       "9688     3948.404625        2018\n",
       "9692     3680.341381        2016\n",
       "9693     2545.070139        2012\n",
       "9698     3107.427820        2005\n",
       "9703     2908.043477        2005\n",
       "\n",
       "[3247 rows x 2 columns]"
      ]
     },
     "execution_count": 25,
     "metadata": {},
     "output_type": "execute_result"
    }
   ],
   "source": [
    "carsAsia_filt"
   ]
  },
  {
   "cell_type": "markdown",
   "id": "3ece7104-d02e-409b-897f-20e3e4522e08",
   "metadata": {},
   "source": [
    "Select the first 7 values"
   ]
  },
  {
   "cell_type": "code",
   "execution_count": 26,
   "id": "24dc5ca5-803f-4782-8c82-049f09d5fe63",
   "metadata": {},
   "outputs": [],
   "source": [
    "carsAsia_filt7 = carsAsia_filt.iloc[:7]"
   ]
  },
  {
   "cell_type": "code",
   "execution_count": 27,
   "id": "acfb34d9-5015-4f12-affe-cd126b996d20",
   "metadata": {},
   "outputs": [
    {
     "data": {
      "text/html": [
       "<div>\n",
       "<style scoped>\n",
       "    .dataframe tbody tr th:only-of-type {\n",
       "        vertical-align: middle;\n",
       "    }\n",
       "\n",
       "    .dataframe tbody tr th {\n",
       "        vertical-align: top;\n",
       "    }\n",
       "\n",
       "    .dataframe thead th {\n",
       "        text-align: right;\n",
       "    }\n",
       "</style>\n",
       "<table border=\"1\" class=\"dataframe\">\n",
       "  <thead>\n",
       "    <tr style=\"text-align: right;\">\n",
       "      <th></th>\n",
       "      <th>vehicle_weight</th>\n",
       "      <th>model_year</th>\n",
       "    </tr>\n",
       "  </thead>\n",
       "  <tbody>\n",
       "    <tr>\n",
       "      <th>8</th>\n",
       "      <td>2714.219310</td>\n",
       "      <td>2016</td>\n",
       "    </tr>\n",
       "    <tr>\n",
       "      <th>12</th>\n",
       "      <td>2783.868974</td>\n",
       "      <td>2010</td>\n",
       "    </tr>\n",
       "    <tr>\n",
       "      <th>14</th>\n",
       "      <td>3582.687368</td>\n",
       "      <td>2007</td>\n",
       "    </tr>\n",
       "    <tr>\n",
       "      <th>20</th>\n",
       "      <td>2231.808142</td>\n",
       "      <td>2011</td>\n",
       "    </tr>\n",
       "    <tr>\n",
       "      <th>21</th>\n",
       "      <td>2659.431451</td>\n",
       "      <td>2016</td>\n",
       "    </tr>\n",
       "    <tr>\n",
       "      <th>34</th>\n",
       "      <td>2844.227534</td>\n",
       "      <td>2014</td>\n",
       "    </tr>\n",
       "    <tr>\n",
       "      <th>38</th>\n",
       "      <td>3761.994038</td>\n",
       "      <td>2019</td>\n",
       "    </tr>\n",
       "  </tbody>\n",
       "</table>\n",
       "</div>"
      ],
      "text/plain": [
       "    vehicle_weight  model_year\n",
       "8      2714.219310        2016\n",
       "12     2783.868974        2010\n",
       "14     3582.687368        2007\n",
       "20     2231.808142        2011\n",
       "21     2659.431451        2016\n",
       "34     2844.227534        2014\n",
       "38     3761.994038        2019"
      ]
     },
     "execution_count": 27,
     "metadata": {},
     "output_type": "execute_result"
    }
   ],
   "source": [
    "carsAsia_filt7"
   ]
  },
  {
   "cell_type": "markdown",
   "id": "8880030c-6ce1-49cd-b1ff-cbd1d87ec577",
   "metadata": {},
   "source": [
    "Get the underlying NumPy array. Let's call it X."
   ]
  },
  {
   "cell_type": "code",
   "execution_count": 28,
   "id": "d4cc9eb0-af01-440a-ad05-59a40a27ac7e",
   "metadata": {},
   "outputs": [],
   "source": [
    "X = carsAsia_filt7.to_numpy()"
   ]
  },
  {
   "cell_type": "code",
   "execution_count": 29,
   "id": "4583dde0-e0f0-45c6-9860-4d3be714c1b3",
   "metadata": {},
   "outputs": [
    {
     "data": {
      "text/plain": [
       "array([[2714.21930965, 2016.        ],\n",
       "       [2783.86897424, 2010.        ],\n",
       "       [3582.68736772, 2007.        ],\n",
       "       [2231.8081416 , 2011.        ],\n",
       "       [2659.43145076, 2016.        ],\n",
       "       [2844.22753389, 2014.        ],\n",
       "       [3761.99403819, 2019.        ]])"
      ]
     },
     "execution_count": 29,
     "metadata": {},
     "output_type": "execute_result"
    }
   ],
   "source": [
    "X"
   ]
  },
  {
   "cell_type": "markdown",
   "id": "a2473222-3966-4b30-91f2-7eaea77635a7",
   "metadata": {},
   "source": [
    "Compute matrix-matrix multiplication between the transpose of X and X. To get the transpose, use X.T. Let's call the result XTX."
   ]
  },
  {
   "cell_type": "code",
   "execution_count": 30,
   "id": "74d4290b-48b8-4821-9aad-7b56fc441f8e",
   "metadata": {},
   "outputs": [],
   "source": [
    "XTX = X.T @ X"
   ]
  },
  {
   "cell_type": "code",
   "execution_count": 31,
   "id": "a61c821f-70d7-4bf7-9e9c-048edb48ff09",
   "metadata": {},
   "outputs": [
    {
     "data": {
      "text/plain": [
       "array([[62248334.33150762, 41431216.5073268 ],\n",
       "       [41431216.5073268 , 28373339.        ]])"
      ]
     },
     "execution_count": 31,
     "metadata": {},
     "output_type": "execute_result"
    }
   ],
   "source": [
    "XTX"
   ]
  },
  {
   "cell_type": "markdown",
   "id": "554f9015-2546-4dd9-b973-89fa7510584c",
   "metadata": {},
   "source": [
    "Invert XTX."
   ]
  },
  {
   "cell_type": "code",
   "execution_count": 32,
   "id": "2b0f04bb-3223-4f6d-99a4-c140e3602fa2",
   "metadata": {},
   "outputs": [],
   "source": [
    "I_XTX = np.linalg.inv(XTX)"
   ]
  },
  {
   "cell_type": "code",
   "execution_count": 33,
   "id": "2499b4b1-7bda-4a2e-b40f-9b4e293a1c4c",
   "metadata": {},
   "outputs": [
    {
     "data": {
      "text/plain": [
       "array([[ 5.71497081e-07, -8.34509443e-07],\n",
       "       [-8.34509443e-07,  1.25380877e-06]])"
      ]
     },
     "execution_count": 33,
     "metadata": {},
     "output_type": "execute_result"
    }
   ],
   "source": [
    "I_XTX"
   ]
  },
  {
   "cell_type": "markdown",
   "id": "a7a69cb4-daf0-4149-9faf-32135fc87273",
   "metadata": {},
   "source": [
    "Create an array y with values [1100, 1300, 800, 900, 1000, 1100, 1200]."
   ]
  },
  {
   "cell_type": "code",
   "execution_count": 34,
   "id": "eaa00331-3823-437b-9fc1-536179d8c951",
   "metadata": {},
   "outputs": [],
   "source": [
    "y = np.array([1100, 1300, 800, 900, 1000, 1100, 1200])"
   ]
  },
  {
   "cell_type": "code",
   "execution_count": 35,
   "id": "59a2299a-ade5-4401-9939-afc9f26e9b74",
   "metadata": {},
   "outputs": [
    {
     "data": {
      "text/plain": [
       "array([1100, 1300,  800,  900, 1000, 1100, 1200])"
      ]
     },
     "execution_count": 35,
     "metadata": {},
     "output_type": "execute_result"
    }
   ],
   "source": [
    "y"
   ]
  },
  {
   "cell_type": "markdown",
   "id": "5a1d7588-97a9-49ee-a79b-a3148db4edd7",
   "metadata": {},
   "source": [
    "Multiply the inverse of XTX with the transpose of X, and then multiply the result by y. Call the result w."
   ]
  },
  {
   "cell_type": "code",
   "execution_count": 37,
   "id": "256fadc3-4c3d-470e-831c-56556fad1496",
   "metadata": {},
   "outputs": [],
   "source": [
    "w = I_XTX @ X.T @ y"
   ]
  },
  {
   "cell_type": "code",
   "execution_count": 38,
   "id": "e9b0ce16-d4b7-4d89-918c-73e918d9a719",
   "metadata": {},
   "outputs": [
    {
     "data": {
      "text/plain": [
       "array([0.01386421, 0.5049067 ])"
      ]
     },
     "execution_count": 38,
     "metadata": {},
     "output_type": "execute_result"
    }
   ],
   "source": [
    "w"
   ]
  },
  {
   "cell_type": "markdown",
   "id": "860ea6a7-7685-4a85-936a-704cd4f98fd1",
   "metadata": {},
   "source": [
    "What's the sum of all the elements of the result?"
   ]
  },
  {
   "cell_type": "code",
   "execution_count": 39,
   "id": "701b0e91-50ee-4dda-8e9e-0669c48fae8e",
   "metadata": {},
   "outputs": [],
   "source": [
    "w_sum = w.sum()"
   ]
  },
  {
   "cell_type": "code",
   "execution_count": 40,
   "id": "da2a86a0-4698-4d31-9558-46ef84e4756e",
   "metadata": {},
   "outputs": [
    {
     "name": "stdout",
     "output_type": "stream",
     "text": [
      "The sum of all the elements of the result is 0.5187709081074016\n"
     ]
    }
   ],
   "source": [
    "print(f\"The sum of all the elements of the result is {w_sum}\")"
   ]
  },
  {
   "cell_type": "code",
   "execution_count": null,
   "id": "aae47094-90cc-4015-8914-505d5d6770a6",
   "metadata": {},
   "outputs": [],
   "source": []
  }
 ],
 "metadata": {
  "kernelspec": {
   "display_name": "Python 3 (ipykernel)",
   "language": "python",
   "name": "python3"
  },
  "language_info": {
   "codemirror_mode": {
    "name": "ipython",
    "version": 3
   },
   "file_extension": ".py",
   "mimetype": "text/x-python",
   "name": "python",
   "nbconvert_exporter": "python",
   "pygments_lexer": "ipython3",
   "version": "3.12.1"
  }
 },
 "nbformat": 4,
 "nbformat_minor": 5
}
