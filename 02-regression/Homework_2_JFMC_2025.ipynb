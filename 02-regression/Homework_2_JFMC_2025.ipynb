{
 "cells": [
  {
   "cell_type": "markdown",
   "id": "f9e616a7-91f4-46b4-bba2-42411bc714ac",
   "metadata": {},
   "source": [
    "# PREDICTING CAR FUEL EFFICIENCY"
   ]
  },
  {
   "cell_type": "markdown",
   "id": "4c5cb2be-50b8-4182-a14b-e69918b45283",
   "metadata": {},
   "source": [
    "# Set up the environment"
   ]
  },
  {
   "cell_type": "code",
   "execution_count": 107,
   "id": "7dd03ddb-f1ed-44d2-b59c-bf12ac7ce76d",
   "metadata": {},
   "outputs": [],
   "source": [
    "import pandas as pd\n",
    "import numpy as np\n",
    "\n",
    "import seaborn as sns\n",
    "from matplotlib import pyplot as plt\n",
    "%matplotlib inline"
   ]
  },
  {
   "cell_type": "markdown",
   "id": "d1a4b8a2-c189-4b67-bf63-7f666ae7f3bc",
   "metadata": {},
   "source": [
    "# Dataset"
   ]
  },
  {
   "cell_type": "markdown",
   "id": "6352a27a-e9af-42cd-8989-adb0daa5aaef",
   "metadata": {},
   "source": [
    "For this homework, we'll use the Car Fuel Efficiency dataset.\n"
   ]
  },
  {
   "cell_type": "code",
   "execution_count": 108,
   "id": "08646d1a-f385-4dea-b7be-4b3d2f000052",
   "metadata": {},
   "outputs": [],
   "source": [
    "df = pd.read_csv('https://raw.githubusercontent.com/alexeygrigorev/datasets/master/car_fuel_efficiency.csv')"
   ]
  },
  {
   "cell_type": "markdown",
   "id": "48dc875d-3f25-4b2a-80fd-b455ec011b47",
   "metadata": {},
   "source": [
    "The goal of this homework is to create a regression model for predicting the car fuel efficiency (column `'fuel_efficiency_mpg'`)"
   ]
  },
  {
   "cell_type": "code",
   "execution_count": 109,
   "id": "7b52a698-5062-418b-a275-543dd77705e4",
   "metadata": {},
   "outputs": [
    {
     "name": "stdout",
     "output_type": "stream",
     "text": [
      "<class 'pandas.core.frame.DataFrame'>\n",
      "RangeIndex: 9704 entries, 0 to 9703\n",
      "Data columns (total 11 columns):\n",
      " #   Column               Non-Null Count  Dtype  \n",
      "---  ------               --------------  -----  \n",
      " 0   engine_displacement  9704 non-null   int64  \n",
      " 1   num_cylinders        9222 non-null   float64\n",
      " 2   horsepower           8996 non-null   float64\n",
      " 3   vehicle_weight       9704 non-null   float64\n",
      " 4   acceleration         8774 non-null   float64\n",
      " 5   model_year           9704 non-null   int64  \n",
      " 6   origin               9704 non-null   object \n",
      " 7   fuel_type            9704 non-null   object \n",
      " 8   drivetrain           9704 non-null   object \n",
      " 9   num_doors            9202 non-null   float64\n",
      " 10  fuel_efficiency_mpg  9704 non-null   float64\n",
      "dtypes: float64(6), int64(2), object(3)\n",
      "memory usage: 834.1+ KB\n"
     ]
    }
   ],
   "source": [
    "df.info()"
   ]
  },
  {
   "cell_type": "markdown",
   "id": "a09173fd-8537-48ef-8dbd-fd37a539e831",
   "metadata": {},
   "source": [
    "# Preparing the dataset"
   ]
  },
  {
   "cell_type": "markdown",
   "id": "762d9e4a-49ca-4dd7-ad9b-52b6a4f98c30",
   "metadata": {},
   "source": [
    "Preparing the dataset\n",
    "Use only the following columns:\n",
    "\n",
    "* `'engine_displacement'`,\n",
    "* `'horsepower'`,\n",
    "* `'vehicle_weight'`,\n",
    "* `'model_year'`,\n",
    "* `'fuel_efficiency_mpg'`"
   ]
  },
  {
   "cell_type": "code",
   "execution_count": 110,
   "id": "2fc7ce48-fac7-4fbd-8314-4150b28c594a",
   "metadata": {},
   "outputs": [],
   "source": [
    "df = df[['engine_displacement', 'horsepower', 'vehicle_weight', 'model_year', 'fuel_efficiency_mpg']]"
   ]
  },
  {
   "cell_type": "code",
   "execution_count": 111,
   "id": "66245c7f-7907-4913-9529-dfcea4cb53f3",
   "metadata": {},
   "outputs": [
    {
     "data": {
      "text/html": [
       "<div>\n",
       "<style scoped>\n",
       "    .dataframe tbody tr th:only-of-type {\n",
       "        vertical-align: middle;\n",
       "    }\n",
       "\n",
       "    .dataframe tbody tr th {\n",
       "        vertical-align: top;\n",
       "    }\n",
       "\n",
       "    .dataframe thead th {\n",
       "        text-align: right;\n",
       "    }\n",
       "</style>\n",
       "<table border=\"1\" class=\"dataframe\">\n",
       "  <thead>\n",
       "    <tr style=\"text-align: right;\">\n",
       "      <th></th>\n",
       "      <th>engine_displacement</th>\n",
       "      <th>horsepower</th>\n",
       "      <th>vehicle_weight</th>\n",
       "      <th>model_year</th>\n",
       "      <th>fuel_efficiency_mpg</th>\n",
       "    </tr>\n",
       "  </thead>\n",
       "  <tbody>\n",
       "    <tr>\n",
       "      <th>count</th>\n",
       "      <td>9704.000000</td>\n",
       "      <td>8996.000000</td>\n",
       "      <td>9704.000000</td>\n",
       "      <td>9704.000000</td>\n",
       "      <td>9704.000000</td>\n",
       "    </tr>\n",
       "    <tr>\n",
       "      <th>mean</th>\n",
       "      <td>199.708368</td>\n",
       "      <td>149.657292</td>\n",
       "      <td>3001.280993</td>\n",
       "      <td>2011.484027</td>\n",
       "      <td>14.985243</td>\n",
       "    </tr>\n",
       "    <tr>\n",
       "      <th>std</th>\n",
       "      <td>49.455319</td>\n",
       "      <td>29.879555</td>\n",
       "      <td>497.894860</td>\n",
       "      <td>6.659808</td>\n",
       "      <td>2.556468</td>\n",
       "    </tr>\n",
       "    <tr>\n",
       "      <th>min</th>\n",
       "      <td>10.000000</td>\n",
       "      <td>37.000000</td>\n",
       "      <td>952.681761</td>\n",
       "      <td>2000.000000</td>\n",
       "      <td>6.200971</td>\n",
       "    </tr>\n",
       "    <tr>\n",
       "      <th>25%</th>\n",
       "      <td>170.000000</td>\n",
       "      <td>130.000000</td>\n",
       "      <td>2666.248985</td>\n",
       "      <td>2006.000000</td>\n",
       "      <td>13.267459</td>\n",
       "    </tr>\n",
       "    <tr>\n",
       "      <th>50%</th>\n",
       "      <td>200.000000</td>\n",
       "      <td>149.000000</td>\n",
       "      <td>2993.226296</td>\n",
       "      <td>2012.000000</td>\n",
       "      <td>15.006037</td>\n",
       "    </tr>\n",
       "    <tr>\n",
       "      <th>75%</th>\n",
       "      <td>230.000000</td>\n",
       "      <td>170.000000</td>\n",
       "      <td>3334.957039</td>\n",
       "      <td>2017.000000</td>\n",
       "      <td>16.707965</td>\n",
       "    </tr>\n",
       "    <tr>\n",
       "      <th>max</th>\n",
       "      <td>380.000000</td>\n",
       "      <td>271.000000</td>\n",
       "      <td>4739.077089</td>\n",
       "      <td>2023.000000</td>\n",
       "      <td>25.967222</td>\n",
       "    </tr>\n",
       "  </tbody>\n",
       "</table>\n",
       "</div>"
      ],
      "text/plain": [
       "       engine_displacement   horsepower  vehicle_weight   model_year  \\\n",
       "count          9704.000000  8996.000000     9704.000000  9704.000000   \n",
       "mean            199.708368   149.657292     3001.280993  2011.484027   \n",
       "std              49.455319    29.879555      497.894860     6.659808   \n",
       "min              10.000000    37.000000      952.681761  2000.000000   \n",
       "25%             170.000000   130.000000     2666.248985  2006.000000   \n",
       "50%             200.000000   149.000000     2993.226296  2012.000000   \n",
       "75%             230.000000   170.000000     3334.957039  2017.000000   \n",
       "max             380.000000   271.000000     4739.077089  2023.000000   \n",
       "\n",
       "       fuel_efficiency_mpg  \n",
       "count          9704.000000  \n",
       "mean             14.985243  \n",
       "std               2.556468  \n",
       "min               6.200971  \n",
       "25%              13.267459  \n",
       "50%              15.006037  \n",
       "75%              16.707965  \n",
       "max              25.967222  "
      ]
     },
     "execution_count": 111,
     "metadata": {},
     "output_type": "execute_result"
    }
   ],
   "source": [
    "df.describe()"
   ]
  },
  {
   "cell_type": "markdown",
   "id": "028f919f-7e0c-4b3d-859a-92d1db53e221",
   "metadata": {},
   "source": [
    "# EDA\n",
    "\n",
    "* Look at the `fuel_efficiency_mpg` variable. Does it have a long tail?"
   ]
  },
  {
   "cell_type": "code",
   "execution_count": 112,
   "id": "44edf7d4-ba6f-4547-9266-8d49b0cefe5c",
   "metadata": {},
   "outputs": [
    {
     "data": {
      "image/png": "[encoded data removed]",
      "text/plain": [
       "<Figure size 600x400 with 1 Axes>"
      ]
     },
     "metadata": {},
     "output_type": "display_data"
    }
   ],
   "source": [
    "plt.figure(figsize=(6,4))\n",
    "\n",
    "sns.histplot(df.fuel_efficiency_mpg, bins=50)\n",
    "plt.title('Fuel Efficency mpg Histogram')\n",
    "plt.xlabel('Fuel Efficiency')\n",
    "plt.show()"
   ]
  },
  {
   "cell_type": "markdown",
   "id": "77c60e99-a37f-49c3-9112-a637915710f4",
   "metadata": {},
   "source": [
    "R/ No, I doesn't have a long tail, but a bell shape, like a normal distribution"
   ]
  },
  {
   "cell_type": "markdown",
   "id": "77072931-6d27-4ee2-8bb1-85f30df5c43f",
   "metadata": {},
   "source": [
    "# Question 1\n",
    "\n",
    "There's one column with missing values. What is it?\n",
    "\n",
    "* `'engine_displacement'`\n",
    "* `'horsepower'`\n",
    "* `'vehicle_weight'`\n",
    "* `'model_year'`"
   ]
  },
  {
   "cell_type": "code",
   "execution_count": 113,
   "id": "8b48ebe5-d186-4ab9-bba5-26f1cbf9a549",
   "metadata": {},
   "outputs": [
    {
     "data": {
      "text/plain": [
       "engine_displacement      0\n",
       "horsepower             708\n",
       "vehicle_weight           0\n",
       "model_year               0\n",
       "fuel_efficiency_mpg      0\n",
       "dtype: int64"
      ]
     },
     "execution_count": 113,
     "metadata": {},
     "output_type": "execute_result"
    }
   ],
   "source": [
    "df.isnull().sum()"
   ]
  },
  {
   "cell_type": "markdown",
   "id": "cd071abe-982b-4db4-9426-faca00e15cfa",
   "metadata": {},
   "source": [
    "R1/ `'horsepower'`is the column with missing values"
   ]
  },
  {
   "cell_type": "markdown",
   "id": "576c1eed-accf-49ec-a712-6891c04d56e0",
   "metadata": {},
   "source": [
    "# Question 2\n",
    "\n",
    "What's the median (50% percentile) for variable 'horsepower'?\n",
    "\n",
    "* 49\n",
    "* 99\n",
    "* 149\n",
    "* 199\n",
    "  "
   ]
  },
  {
   "cell_type": "code",
   "execution_count": 114,
   "id": "f95bb7a9-e004-4a01-84df-aab69d7c3e2f",
   "metadata": {},
   "outputs": [
    {
     "name": "stdout",
     "output_type": "stream",
     "text": [
      "The median (50% percentile) for variable \"horsepower\" is 149.0\n"
     ]
    }
   ],
   "source": [
    "meanHP = df['horsepower'].median()\n",
    "print(f'The median (50% percentile) for variable \"horsepower\" is {meanHP}')"
   ]
  },
  {
   "cell_type": "markdown",
   "id": "03dd5e83-2b90-43f5-b3e4-54eba84c2ba9",
   "metadata": {},
   "source": [
    "## Prepare and split the dataset\n",
    "\n",
    "* Shuffle the dataset (the filtered one you created above), use seed 42.\n",
    "* Split your data in train/val/test sets, with 60%/20%/20% distribution.\n",
    "  \n",
    "Use the same code as in the lectures"
   ]
  },
  {
   "cell_type": "code",
   "execution_count": 115,
   "id": "92fc8af5-7e1b-42a1-9e09-caf98b9dbe3c",
   "metadata": {},
   "outputs": [
    {
     "data": {
      "text/plain": [
       "(9704, 5824, 1940, 1940)"
      ]
     },
     "execution_count": 115,
     "metadata": {},
     "output_type": "execute_result"
    }
   ],
   "source": [
    "# Splitting the dataset into the train, validation, and the test dataset\n",
    "n = len(df)\n",
    "\n",
    "# Validation dataset\n",
    "n_val = int(n*0.2)\n",
    "\n",
    "# Test dataset\n",
    "n_test = int(n*0.2)\n",
    "\n",
    "# Train dataset\n",
    "n_train = n-n_val-n_test\n",
    "\n",
    "n, n_train, n_val, n_test"
   ]
  },
  {
   "cell_type": "code",
   "execution_count": 116,
   "id": "ec3f3ecb-4b92-4a0f-885e-0795f14a3458",
   "metadata": {},
   "outputs": [
    {
     "data": {
      "text/plain": [
       "array([ 483, 7506, 8795, ..., 5390,  860, 7270], shape=(9704,))"
      ]
     },
     "execution_count": 116,
     "metadata": {},
     "output_type": "execute_result"
    }
   ],
   "source": [
    "idx = np.arange(n)\n",
    "np.random.seed(42)\n",
    "np.random.shuffle(idx)\n",
    "idx"
   ]
  },
  {
   "cell_type": "code",
   "execution_count": 117,
   "id": "461c734c-eb64-4e45-9dbf-9b004a098c5c",
   "metadata": {},
   "outputs": [
    {
     "data": {
      "text/plain": [
       "(5824, 1940, 1940)"
      ]
     },
     "execution_count": 117,
     "metadata": {},
     "output_type": "execute_result"
    }
   ],
   "source": [
    "df_train = df.iloc[idx[:n_train]]\n",
    "df_val = df.iloc[idx[n_train:n_train+n_val]]\n",
    "df_test = df.iloc[idx[n_train+n_val:]]\n",
    "\n",
    "len(df_train), len(df_val), len(df_test)"
   ]
  },
  {
   "cell_type": "code",
   "execution_count": 118,
   "id": "f8901a8f-040a-4597-82ff-f0094843d4a0",
   "metadata": {},
   "outputs": [],
   "source": [
    "# Reset index in each dataframe\n",
    "df_train = df_train.reset_index(drop=True)\n",
    "df_val = df_val.reset_index(drop=True)\n",
    "df_test = df_test.reset_index(drop=True)"
   ]
  },
  {
   "cell_type": "markdown",
   "id": "2f1d0c5c-cb66-4286-ba33-af389f035775",
   "metadata": {},
   "source": [
    "# Question 3\n",
    "\n",
    "* We need to deal with missing values for the column from Q1.\n",
    "* We have two options: fill it with 0 or with the mean of this variable.\n",
    "* Try both options. For each, train a linear regression model without regularization using the code from the lessons.\n",
    "* For computing the mean, use the training only!\n",
    "* Use the validation dataset to evaluate the models and compare the RMSE of each option.\n",
    "* Round the RMSE scores to 2 decimal digits using round(score, 2)\n",
    "* Which option gives better RMSE?\n",
    "\n",
    "Options:\n",
    "\n",
    "* With 0\n",
    "* With mean\n",
    "* Both are equally good"
   ]
  },
  {
   "cell_type": "code",
   "execution_count": 119,
   "id": "211f9071-6f12-4bed-bec4-7c95fed3b20d",
   "metadata": {},
   "outputs": [
    {
     "name": "stdout",
     "output_type": "stream",
     "text": [
      "<class 'pandas.core.frame.DataFrame'>\n",
      "RangeIndex: 9704 entries, 0 to 9703\n",
      "Data columns (total 5 columns):\n",
      " #   Column               Non-Null Count  Dtype  \n",
      "---  ------               --------------  -----  \n",
      " 0   engine_displacement  9704 non-null   int64  \n",
      " 1   horsepower           8996 non-null   float64\n",
      " 2   vehicle_weight       9704 non-null   float64\n",
      " 3   model_year           9704 non-null   int64  \n",
      " 4   fuel_efficiency_mpg  9704 non-null   float64\n",
      "dtypes: float64(3), int64(2)\n",
      "memory usage: 379.2 KB\n"
     ]
    }
   ],
   "source": [
    "df.info()"
   ]
  },
  {
   "cell_type": "code",
   "execution_count": 120,
   "id": "6a8cb474-9cbb-434b-b2b8-1f58e19a3f74",
   "metadata": {},
   "outputs": [],
   "source": [
    "base = ['engine_displacement', 'horsepower', 'vehicle_weight', 'age']"
   ]
  },
  {
   "cell_type": "code",
   "execution_count": 121,
   "id": "bb7dc369-0853-4090-a81d-5ae9b44c3eb0",
   "metadata": {},
   "outputs": [],
   "source": [
    "# Linear Regression\n",
    "\n",
    "def train_linear_regression(X,y,r=0):\n",
    "    #X: feature Matrix\n",
    "    #y: target value\n",
    "    #r: regularization value\n",
    "    \n",
    "    ones = np.ones(X.shape[0])\n",
    "    X = np.column_stack([ones,X])\n",
    "\n",
    "    XTX = X.T.dot(X)\n",
    "    XTX = XTX +r*np.eye(XTX.shape[0])\n",
    "    \n",
    "    XTX_inv = np.linalg.inv(XTX)\n",
    "    w = XTX_inv.dot(X.T).dot(y)\n",
    "\n",
    "    return w[0], w[1:]"
   ]
  },
  {
   "cell_type": "code",
   "execution_count": 122,
   "id": "959d016c-c8b7-460a-90e7-a5f68017214c",
   "metadata": {},
   "outputs": [],
   "source": [
    "# Preparing the dataframe\n",
    "\n",
    "def prepare_X(df, base, fillOpt):\n",
    "    # df: original dataframe\n",
    "    # base: base dataframe\n",
    "    # fillOpt: Option for replacing null values:{zero, mean}\n",
    "    df['age']=df.model_year.max()-df.model_year\n",
    "    \n",
    "    df_num = df[base]\n",
    "    if fillOpt == \"zero\":\n",
    "        df_num = df_num.fillna(0)\n",
    "        X = df_num.values\n",
    "    elif fillOpt == \"mean\":\n",
    "        media_col = df_num['horsepower'].mean()\n",
    "        df_num.horsepower.fillna(media_col, inplace=True)\n",
    "        X = df_num.values\n",
    "    else: print('invalid option')\n",
    "    \n",
    "    return X\n",
    "        "
   ]
  },
  {
   "cell_type": "code",
   "execution_count": 123,
   "id": "774dd1cc-5fe8-429d-a944-46902e7c3c28",
   "metadata": {},
   "outputs": [],
   "source": [
    "# RMSE \n",
    "\n",
    "def rmse(y,y_pred):\n",
    "    error = y_pred -y\n",
    "    mse = (error**2).mean()\n",
    "    return np.sqrt(mse)"
   ]
  },
  {
   "cell_type": "code",
   "execution_count": 124,
   "id": "74a96ae5-41a0-4409-8e88-d2a169410d1e",
   "metadata": {},
   "outputs": [],
   "source": [
    "# Plot Prediction vs actual distribution\n",
    "\n",
    "def plotDistribution(y_train, y_pred):\n",
    "    sns.histplot(y_train, label='target', color='red', alpha=0.5, bins=50)\n",
    "    sns.histplot(y_pred, label='prediction', color='blue', alpha=0.5, bins=50)\n",
    "\n",
    "    plt.legend()\n",
    "\n",
    "    plt.ylabel('Frequency')\n",
    "    plt.xlabel('fuel efficiency mpg')\n",
    "    plt.title('Predictions vs actual distribution')\n",
    "\n",
    "    plt.show()"
   ]
  },
  {
   "cell_type": "code",
   "execution_count": 125,
   "id": "4f876334-66b5-42e8-919e-7206a250b6f2",
   "metadata": {},
   "outputs": [
    {
     "data": {
      "text/html": [
       "<div>\n",
       "<style scoped>\n",
       "    .dataframe tbody tr th:only-of-type {\n",
       "        vertical-align: middle;\n",
       "    }\n",
       "\n",
       "    .dataframe tbody tr th {\n",
       "        vertical-align: top;\n",
       "    }\n",
       "\n",
       "    .dataframe thead th {\n",
       "        text-align: right;\n",
       "    }\n",
       "</style>\n",
       "<table border=\"1\" class=\"dataframe\">\n",
       "  <thead>\n",
       "    <tr style=\"text-align: right;\">\n",
       "      <th></th>\n",
       "      <th>engine_displacement</th>\n",
       "      <th>horsepower</th>\n",
       "      <th>vehicle_weight</th>\n",
       "      <th>model_year</th>\n",
       "      <th>fuel_efficiency_mpg</th>\n",
       "    </tr>\n",
       "  </thead>\n",
       "  <tbody>\n",
       "    <tr>\n",
       "      <th>0</th>\n",
       "      <td>170</td>\n",
       "      <td>159.0</td>\n",
       "      <td>3413.433759</td>\n",
       "      <td>2003</td>\n",
       "      <td>13.231729</td>\n",
       "    </tr>\n",
       "    <tr>\n",
       "      <th>1</th>\n",
       "      <td>130</td>\n",
       "      <td>97.0</td>\n",
       "      <td>3149.664934</td>\n",
       "      <td>2007</td>\n",
       "      <td>13.688217</td>\n",
       "    </tr>\n",
       "    <tr>\n",
       "      <th>2</th>\n",
       "      <td>170</td>\n",
       "      <td>78.0</td>\n",
       "      <td>3079.038997</td>\n",
       "      <td>2018</td>\n",
       "      <td>14.246341</td>\n",
       "    </tr>\n",
       "    <tr>\n",
       "      <th>3</th>\n",
       "      <td>220</td>\n",
       "      <td>NaN</td>\n",
       "      <td>2542.392402</td>\n",
       "      <td>2009</td>\n",
       "      <td>16.912736</td>\n",
       "    </tr>\n",
       "    <tr>\n",
       "      <th>4</th>\n",
       "      <td>210</td>\n",
       "      <td>140.0</td>\n",
       "      <td>3460.870990</td>\n",
       "      <td>2009</td>\n",
       "      <td>12.488369</td>\n",
       "    </tr>\n",
       "  </tbody>\n",
       "</table>\n",
       "</div>"
      ],
      "text/plain": [
       "   engine_displacement  horsepower  vehicle_weight  model_year  \\\n",
       "0                  170       159.0     3413.433759        2003   \n",
       "1                  130        97.0     3149.664934        2007   \n",
       "2                  170        78.0     3079.038997        2018   \n",
       "3                  220         NaN     2542.392402        2009   \n",
       "4                  210       140.0     3460.870990        2009   \n",
       "\n",
       "   fuel_efficiency_mpg  \n",
       "0            13.231729  \n",
       "1            13.688217  \n",
       "2            14.246341  \n",
       "3            16.912736  \n",
       "4            12.488369  "
      ]
     },
     "execution_count": 125,
     "metadata": {},
     "output_type": "execute_result"
    }
   ],
   "source": [
    "df.head()"
   ]
  },
  {
   "cell_type": "markdown",
   "id": "6675cc5c-b6ee-4357-ae67-a01533047ff8",
   "metadata": {},
   "source": [
    "## Q3-1: Filling missing values with 0"
   ]
  },
  {
   "cell_type": "code",
   "execution_count": 126,
   "id": "2ef97f53-945d-4be4-88b9-10919e02e756",
   "metadata": {},
   "outputs": [
    {
     "name": "stdout",
     "output_type": "stream",
     "text": [
      "train filling with zero 0.5202614265099077\n"
     ]
    },
    {
     "data": {
      "image/png": "[encoded data removed]",
      "text/plain": [
       "<Figure size 640x480 with 1 Axes>"
      ]
     },
     "metadata": {},
     "output_type": "display_data"
    }
   ],
   "source": [
    "X_train_zero = prepare_X(df_train, base, 'zero')\n",
    "y_train = df_train.fuel_efficiency_mpg.values\n",
    "\n",
    "w_0_zero, w_zero = train_linear_regression(X_train_zero,y_train,r=0)\n",
    "y_pred_zero = w_0_zero + X_train_zero.dot(w_zero)\n",
    "\n",
    "print('train filling with zero', rmse(y_train, y_pred_zero))\n",
    "\n",
    "plotDistribution(y_train, y_pred_zero)"
   ]
  },
  {
   "cell_type": "markdown",
   "id": "b847867b-0459-4aee-beff-4378f63c3793",
   "metadata": {},
   "source": [
    "## Q3-2: Filling missing values with mean value"
   ]
  },
  {
   "cell_type": "code",
   "execution_count": 127,
   "id": "65b38152-4491-4355-b3f5-ebd557e7f5c0",
   "metadata": {},
   "outputs": [
    {
     "name": "stderr",
     "output_type": "stream",
     "text": [
      "/tmp/ipykernel_3189/3457488519.py:15: FutureWarning: A value is trying to be set on a copy of a DataFrame or Series through chained assignment using an inplace method.\n",
      "The behavior will change in pandas 3.0. This inplace method will never work because the intermediate object on which we are setting values always behaves as a copy.\n",
      "\n",
      "For example, when doing 'df[col].method(value, inplace=True)', try using 'df.method({col: value}, inplace=True)' or df[col] = df[col].method(value) instead, to perform the operation inplace on the original object.\n",
      "\n",
      "\n",
      "  df_num.horsepower.fillna(media_col, inplace=True)\n",
      "/tmp/ipykernel_3189/3457488519.py:15: SettingWithCopyWarning: \n",
      "A value is trying to be set on a copy of a slice from a DataFrame\n",
      "\n",
      "See the caveats in the documentation: https://pandas.pydata.org/pandas-docs/stable/user_guide/indexing.html#returning-a-view-versus-a-copy\n",
      "  df_num.horsepower.fillna(media_col, inplace=True)\n"
     ]
    },
    {
     "name": "stdout",
     "output_type": "stream",
     "text": [
      "train filling with mean value 0.4624412137959964\n"
     ]
    },
    {
     "data": {
      "image/png": "[encoded data removed]",
      "text/plain": [
       "<Figure size 640x480 with 1 Axes>"
      ]
     },
     "metadata": {},
     "output_type": "display_data"
    }
   ],
   "source": [
    "X_train_mean = prepare_X(df_train, base, 'mean')\n",
    "y_train = df_train.fuel_efficiency_mpg.values\n",
    "\n",
    "w_0_mean, w_mean = train_linear_regression(X_train_mean,y_train,r=0)\n",
    "y_pred_mean = w_0_mean + X_train_mean.dot(w_mean)\n",
    "\n",
    "print('train filling with mean value', rmse(y_train, y_pred_mean))\n",
    "\n",
    "plotDistribution(y_train, y_pred_mean)"
   ]
  },
  {
   "cell_type": "markdown",
   "id": "655c0608-be06-419a-849d-9062ace8b974",
   "metadata": {},
   "source": [
    "The option which gives better RMSE corresponds to fill the missing values with the `'mean value of the feature'`"
   ]
  },
  {
   "cell_type": "markdown",
   "id": "1b453a5b-b663-4669-bda1-1697d96b1746",
   "metadata": {},
   "source": [
    "# Question 4\n",
    "\n",
    "* Now let's train a regularized linear regression.\n",
    "* For this question, fill the NAs with 0.\n",
    "* Try different values of r from this list: `[0, 0.01, 0.1, 1, 5, 10, 100]`.\n",
    "* Use RMSE to evaluate the model on the validation dataset.\n",
    "* Round the RMSE scores to 2 decimal digits.\n",
    "* Which `r` gives the best RMSE?\n",
    "\n",
    "If multiple options give the same best RMSE, select the smallest `r`.\n",
    "\n",
    "Options:\n",
    "\n",
    "* 0\n",
    "* 0.01\n",
    "* 1\n",
    "* 10\n",
    "* 100"
   ]
  },
  {
   "cell_type": "code",
   "execution_count": null,
   "id": "fac036fc-2073-4eaf-a8fe-7a32ab08cedc",
   "metadata": {},
   "outputs": [],
   "source": []
  },
  {
   "cell_type": "markdown",
   "id": "d9db5ed7-a548-4d29-b485-a6c379b9aef9",
   "metadata": {},
   "source": [
    "# Question 5\n",
    "* We used seed 42 for splitting the data. Let's find out how selecting the seed influences our score.\n",
    "* Try different seed values: `[0, 1, 2, 3, 4, 5, 6, 7, 8, 9]`.\n",
    "* For each seed, do the train/validation/test split with 60%/20%/20% distribution.\n",
    "* Fill the missing values with 0 and train a model without regularization.\n",
    "* For each seed, evaluate the model on the validation dataset and collect the RMSE scores.\n",
    "* What's the standard deviation of all the scores? To compute the standard deviation, use `np.std`.\n",
    "* Round the result to 3 decimal digits `(round(std, 3)`)\n",
    "\n",
    "What's the value of std?\n",
    "\n",
    "* 0.001\n",
    "* 0.006\n",
    "* 0.060\n",
    "* 0.600\n",
    "  \n",
    "Note: Standard deviation shows how different the values are. If it's low, then all values are approximately the same. If it's high, the values are different. If standard deviation of scores is low, then our model is _stable_."
   ]
  },
  {
   "cell_type": "code",
   "execution_count": null,
   "id": "5659ed8b-e73d-40db-8a8e-584e4ea395f3",
   "metadata": {},
   "outputs": [],
   "source": []
  },
  {
   "cell_type": "markdown",
   "id": "163fc07b-650d-4294-b5f5-d6ad796dee3a",
   "metadata": {},
   "source": [
    "# Question 6\n",
    "\n",
    "* Split the dataset like previously, use seed 9.\n",
    "* Combine train and validation datasets.\n",
    "* Fill the missing values with 0 and train a model with `r=0.001`.\n",
    "What's the RMSE on the test dataset?\n",
    "\n",
    "Options:\n",
    "\n",
    "* 0.15\n",
    "* 0.515\n",
    "* 5.15\n",
    "* 51.5"
   ]
  },
  {
   "cell_type": "code",
   "execution_count": null,
   "id": "da828bf7-d397-41da-959d-36266dc571c6",
   "metadata": {},
   "outputs": [],
   "source": []
  }
 ],
 "metadata": {
  "kernelspec": {
   "display_name": "Python 3 (ipykernel)",
   "language": "python",
   "name": "python3"
  },
  "language_info": {
   "codemirror_mode": {
    "name": "ipython",
    "version": 3
   },
   "file_extension": ".py",
   "mimetype": "text/x-python",
   "name": "python",
   "nbconvert_exporter": "python",
   "pygments_lexer": "ipython3",
   "version": "3.12.1"
  }
 },
 "nbformat": 4,
 "nbformat_minor": 5
}
