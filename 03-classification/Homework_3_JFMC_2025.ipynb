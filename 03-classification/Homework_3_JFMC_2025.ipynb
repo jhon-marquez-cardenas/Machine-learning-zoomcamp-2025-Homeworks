{
 "cells": [
  {
   "cell_type": "markdown",
   "id": "6c1afa55-c70f-422a-9ca2-f5922e8287b1",
   "metadata": {},
   "source": [
    "# HOMEWORK 3- ML FOR CLASSIFICATION\n",
    "## Using the lead scoring dataset Bank Marketing"
   ]
  },
  {
   "cell_type": "markdown",
   "id": "e27f524f-39b6-42ad-9e86-f1d6846966bc",
   "metadata": {},
   "source": [
    "## Set up environment"
   ]
  },
  {
   "cell_type": "code",
   "execution_count": 1,
   "id": "212e77e9-b0fb-4b3b-8c80-77235404df11",
   "metadata": {},
   "outputs": [],
   "source": [
    "import pandas as pd\n",
    "import numpy as np\n",
    "\n",
    "import seaborn as sns\n",
    "from matplotlib import pyplot as plt\n",
    "%matplotlib inline"
   ]
  },
  {
   "cell_type": "markdown",
   "id": "535188bf-1385-4df5-b202-c1735220a52d",
   "metadata": {},
   "source": [
    "## Dataset"
   ]
  },
  {
   "cell_type": "markdown",
   "id": "5c821ba3-c5bc-49c0-a8ad-e42ebe3247b8",
   "metadata": {},
   "source": [
    "In this homework, we will use the lead scoring dataset Bank Marketing dataset."
   ]
  },
  {
   "cell_type": "code",
   "execution_count": 2,
   "id": "ab3bea04-5ab4-4d8c-a33d-0b5293616eac",
   "metadata": {},
   "outputs": [],
   "source": [
    "df = pd.read_csv('https://raw.githubusercontent.com/alexeygrigorev/datasets/master/course_lead_scoring.csv')"
   ]
  },
  {
   "cell_type": "markdown",
   "id": "ffabd36a-586b-4cd2-967a-9d36a2081c1b",
   "metadata": {},
   "source": [
    "In this dataset our desired target for classification task will be `converted` variable - has the client signed up to the platform or not."
   ]
  },
  {
   "cell_type": "markdown",
   "id": "13157692-9ec8-47fe-9113-e039d602308c",
   "metadata": {},
   "source": [
    "## Data preparation\n",
    "\n",
    "* Check if the missing values are presented in the features.\n",
    "* If there are missing values:\n",
    "    - For categorical features, replace them with 'NA'\n",
    "    - For numerical features, replace with with 0.0"
   ]
  },
  {
   "cell_type": "markdown",
   "id": "b91128ce-d68c-4d29-8ab0-78dc970b3270",
   "metadata": {},
   "source": [
    "## Question 1\n",
    "\n",
    "What is the most frequent observation (mode) for the column `industry`?\n",
    "\n",
    "* NA\n",
    "* technology\n",
    "* healthcare\n",
    "* retail"
   ]
  },
  {
   "cell_type": "code",
   "execution_count": 4,
   "id": "37d1e911-0e7f-4214-abcd-fd1eb203d17d",
   "metadata": {},
   "outputs": [
    {
     "name": "stdout",
     "output_type": "stream",
     "text": [
      "<class 'pandas.core.frame.DataFrame'>\n",
      "RangeIndex: 1462 entries, 0 to 1461\n",
      "Data columns (total 9 columns):\n",
      " #   Column                    Non-Null Count  Dtype  \n",
      "---  ------                    --------------  -----  \n",
      " 0   lead_source               1334 non-null   object \n",
      " 1   industry                  1328 non-null   object \n",
      " 2   number_of_courses_viewed  1462 non-null   int64  \n",
      " 3   annual_income             1281 non-null   float64\n",
      " 4   employment_status         1362 non-null   object \n",
      " 5   location                  1399 non-null   object \n",
      " 6   interaction_count         1462 non-null   int64  \n",
      " 7   lead_score                1462 non-null   float64\n",
      " 8   converted                 1462 non-null   int64  \n",
      "dtypes: float64(2), int64(3), object(4)\n",
      "memory usage: 102.9+ KB\n"
     ]
    }
   ],
   "source": [
    "df.info()"
   ]
  },
  {
   "cell_type": "code",
   "execution_count": 53,
   "id": "6cde469f-ff63-40dd-8d11-118f974c1ef5",
   "metadata": {},
   "outputs": [
    {
     "data": {
      "text/plain": [
       "lead_source                 128\n",
       "industry                    134\n",
       "number_of_courses_viewed      0\n",
       "annual_income               181\n",
       "employment_status           100\n",
       "location                     63\n",
       "interaction_count             0\n",
       "lead_score                    0\n",
       "converted                     0\n",
       "dtype: int64"
      ]
     },
     "execution_count": 53,
     "metadata": {},
     "output_type": "execute_result"
    }
   ],
   "source": [
    "# check if there are missing values in the df\n",
    "df.isnull().sum()"
   ]
  },
  {
   "cell_type": "code",
   "execution_count": 55,
   "id": "ecc6daa3-06b6-4486-b1cc-d129fe1a90fd",
   "metadata": {},
   "outputs": [
    {
     "data": {
      "text/plain": [
       "lead_source                 0\n",
       "industry                    0\n",
       "number_of_courses_viewed    0\n",
       "annual_income               0\n",
       "employment_status           0\n",
       "location                    0\n",
       "interaction_count           0\n",
       "lead_score                  0\n",
       "converted                   0\n",
       "dtype: int64"
      ]
     },
     "execution_count": 55,
     "metadata": {},
     "output_type": "execute_result"
    }
   ],
   "source": [
    "# Replacing missing values\n",
    "\n",
    "for col in df.columns:\n",
    "    if df[col].dtype == 'object':\n",
    "        df[col] = df[col].fillna('NA')\n",
    "    elif np.issubdtype(df[col].dtype, np.number):\n",
    "        df[col] = df[col].fillna(0)\n",
    "    else: print('Type unexpected')\n",
    "\n",
    "df.isnull().sum()\n"
   ]
  },
  {
   "cell_type": "code",
   "execution_count": 81,
   "id": "14ea5018-1b34-43e5-be77-4156f0052e6c",
   "metadata": {},
   "outputs": [
    {
     "data": {
      "text/plain": [
       "industry\n",
       "retail           203\n",
       "finance          200\n",
       "other            198\n",
       "healthcare       187\n",
       "education        187\n",
       "technology       179\n",
       "manufacturing    174\n",
       "NA               134\n",
       "Name: count, dtype: int64"
      ]
     },
     "execution_count": 81,
     "metadata": {},
     "output_type": "execute_result"
    }
   ],
   "source": [
    "df.industry.value_counts()"
   ]
  },
  {
   "cell_type": "code",
   "execution_count": 82,
   "id": "30d649fa-95a0-49e3-8580-4ec56cf1a21f",
   "metadata": {},
   "outputs": [
    {
     "name": "stdout",
     "output_type": "stream",
     "text": [
      "The most frequent observation for \"industry\" column\n",
      " is: retail\n"
     ]
    }
   ],
   "source": [
    "mode_industry = df.industry.mode()\n",
    "print(f'The most frequent observation for \"industry\" column\\n is: {mode_industry[0]}')"
   ]
  },
  {
   "cell_type": "markdown",
   "id": "698357e7-048f-4d57-89a5-92576f537a1a",
   "metadata": {},
   "source": [
    "## Question 2\n",
    "\n",
    "Create the _correlation matrix_ for the numerical features of your dataset. In a correlation matrix, you compute the correlation coefficient between every pair of features.\n",
    "\n",
    "What are the two features that have the biggest correlation?\n",
    "\n",
    "* `interaction_count` and `lead_score`\n",
    "* `number_of_courses_viewed` and `lead_score`\n",
    "* `number_of_courses_viewed` and `interaction_count`\n",
    "* `annual_income` and `interaction_count`\n",
    "  \n",
    "Only consider the pairs above when answering this question.\n",
    "\n",
    "## Split the data\n",
    "\n",
    "* Split your data in train/val/test sets with 60%/20%/20% distribution.\n",
    "* Use Scikit-Learn for that (the `train_test_split` function) and set the seed to `42`.\n",
    "* Make sure that the target value `y` is not in your dataframe."
   ]
  },
  {
   "cell_type": "code",
   "execution_count": null,
   "id": "d55527ae-364e-4bb8-9ee2-c424369e45e8",
   "metadata": {},
   "outputs": [],
   "source": []
  },
  {
   "cell_type": "markdown",
   "id": "f7e895fb-fa01-4bec-8302-5896eba0e1f0",
   "metadata": {},
   "source": [
    "# Question 3\n",
    "\n",
    "* Calculate the mutual information score between `y` and other categorical variables in the dataset. Use the training set only.\n",
    "* Round the scores to 2 decimals using `round(score, 2)`.\n",
    "  \n",
    "Which of these variables has the biggest mutual information score?\n",
    "\n",
    "* `industry`\n",
    "* `location`\n",
    "* `lead_source`\n",
    "* `employment_status`"
   ]
  },
  {
   "cell_type": "code",
   "execution_count": null,
   "id": "922063f1-a804-4574-a39f-6f08877c7956",
   "metadata": {},
   "outputs": [],
   "source": []
  },
  {
   "cell_type": "markdown",
   "id": "5c0e77aa-f725-49e8-aa5f-c7d4bf865239",
   "metadata": {},
   "source": [
    "# Question 4\n",
    "\n",
    "* Now let's train a logistic regression.\n",
    "* Remember that we have several categorical variables in the dataset. Include them using one-hot encoding.\n",
    "* Fit the model on the training dataset.\n",
    "    - To make sure the results are reproducible across different versions of Scikit-Learn, fit the model with these parameters:\n",
    "    - `model = LogisticRegression(solver='liblinear', C=1.0, max_iter=1000, random_state=42)`\n",
    "* Calculate the accuracy on the validation dataset and round it to 2 decimal digits.\n",
    "  \n",
    "What accuracy did you get?\n",
    "\n",
    "* 0.64\n",
    "* 0.74\n",
    "* 0.84\n",
    "* 0.94"
   ]
  },
  {
   "cell_type": "code",
   "execution_count": null,
   "id": "25977ed5-9327-44c1-adc2-64442790e36a",
   "metadata": {},
   "outputs": [],
   "source": []
  },
  {
   "cell_type": "markdown",
   "id": "284d5a24-bc03-4607-8b0c-a1f725d40a4b",
   "metadata": {},
   "source": [
    "# Question 5\n",
    "\n",
    "* Let's find the least useful feature using the _feature elimination_ technique.\n",
    "* Train a model using the same features and parameters as in Q4 (without rounding).\n",
    "* Now exclude each feature from this set and train a model without it. Record the accuracy for each model.\n",
    "* For each feature, calculate the difference between the original accuracy and the accuracy without the feature.\n",
    "* \n",
    "Which of following feature has the smallest difference?\n",
    "\n",
    "* `'industry'`\n",
    "* `'employment_status'`\n",
    "* `'lead_score'`\n",
    "  \n",
    "*Note:* The difference doesn't have to be positive."
   ]
  },
  {
   "cell_type": "code",
   "execution_count": null,
   "id": "83864c73-c110-44c9-82b9-0e6c695b7ef3",
   "metadata": {},
   "outputs": [],
   "source": []
  },
  {
   "cell_type": "markdown",
   "id": "6a392ec9-330c-42b1-b7c3-c07ef365edd8",
   "metadata": {},
   "source": [
    "# Question 6\n",
    "\n",
    "* Now let's train a regularized logistic regression.\n",
    "* Let's try the following values of the parameter `C`: `[0.01, 0.1, 1, 10, 100]`.\n",
    "* Train models using all the features as in Q4.\n",
    "* Calculate the accuracy on the validation dataset and round it to 3 decimal digits.\n",
    "\n",
    "Which of these `C` leads to the best accuracy on the validation set?\n",
    "\n",
    "* 0.01\n",
    "* 0.1\n",
    "* 1\n",
    "* 10\n",
    "* 100\n",
    "  \n",
    "*Note:* If there are multiple options, select the smallest `C`."
   ]
  },
  {
   "cell_type": "code",
   "execution_count": null,
   "id": "62f9ba38-d17e-4917-9ad0-4811c5dbd7f1",
   "metadata": {},
   "outputs": [],
   "source": []
  }
 ],
 "metadata": {
  "kernelspec": {
   "display_name": "Python 3 (ipykernel)",
   "language": "python",
   "name": "python3"
  },
  "language_info": {
   "codemirror_mode": {
    "name": "ipython",
    "version": 3
   },
   "file_extension": ".py",
   "mimetype": "text/x-python",
   "name": "python",
   "nbconvert_exporter": "python",
   "pygments_lexer": "ipython3",
   "version": "3.12.1"
  }
 },
 "nbformat": 4,
 "nbformat_minor": 5
}
