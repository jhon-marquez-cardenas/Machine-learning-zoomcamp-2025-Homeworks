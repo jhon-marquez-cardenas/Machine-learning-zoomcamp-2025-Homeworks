{
 "cells": [
  {
   "cell_type": "markdown",
   "id": "a652c5f6-ae8b-43bf-9a21-a410dc49680f",
   "metadata": {},
   "source": [
    "# HOMEWORK 4- ML EVALUATION\n",
    "## Using the lead scoring dataset Bank Marketing"
   ]
  },
  {
   "cell_type": "markdown",
   "id": "2dd0129a-b6be-487f-abca-bdf41ebc91a1",
   "metadata": {},
   "source": [
    "## Set up environment"
   ]
  },
  {
   "cell_type": "code",
   "execution_count": 18,
   "id": "6d184cbe-d61a-4622-b287-ef6497a2e254",
   "metadata": {},
   "outputs": [],
   "source": [
    "import pandas as pd\n",
    "import numpy as np\n",
    "\n",
    "import seaborn as sns\n",
    "from matplotlib import pyplot as plt\n",
    "from sklearn.metrics import accuracy_score, roc_curve, auc, roc_auc_score\n",
    "%matplotlib inline"
   ]
  },
  {
   "cell_type": "markdown",
   "id": "fa6bb37a-d3ce-41fd-8c40-003162d4f028",
   "metadata": {},
   "source": [
    "## Dataset"
   ]
  },
  {
   "cell_type": "markdown",
   "id": "a3afd39b-a187-48e9-9523-bbda42afdca9",
   "metadata": {},
   "source": [
    "In this homework, we will use the lead scoring dataset Bank Marketing dataset."
   ]
  },
  {
   "cell_type": "code",
   "execution_count": 2,
   "id": "12507c3d-2223-42e1-9c64-9c219caeb607",
   "metadata": {},
   "outputs": [],
   "source": [
    "df = pd.read_csv('https://raw.githubusercontent.com/alexeygrigorev/datasets/master/course_lead_scoring.csv')"
   ]
  },
  {
   "cell_type": "markdown",
   "id": "b0b22063-86ec-4b85-92eb-06b12c4c57fb",
   "metadata": {},
   "source": [
    "In this dataset our desired target for classification task will be *converted* variable - has the client signed up to the platform or not.\n",
    "\n",
    "## Data preparation\n",
    "\n",
    "Check if the missing values are presented in the features.\n",
    "If there are missing values:\n",
    "For caterogiral features, replace them with 'NA'\n",
    "For numerical features, replace with with 0.0\n",
    "\n",
    "Split the data into 3 parts: train/validation/test with 60%/20%/20% distribution. Use *train_test_split* function for that with *random_state=1*"
   ]
  },
  {
   "cell_type": "code",
   "execution_count": 3,
   "id": "826dd64f-8c81-4fb4-a400-d532658b7403",
   "metadata": {},
   "outputs": [
    {
     "name": "stdout",
     "output_type": "stream",
     "text": [
      "<class 'pandas.core.frame.DataFrame'>\n",
      "RangeIndex: 1462 entries, 0 to 1461\n",
      "Data columns (total 9 columns):\n",
      " #   Column                    Non-Null Count  Dtype  \n",
      "---  ------                    --------------  -----  \n",
      " 0   lead_source               1334 non-null   object \n",
      " 1   industry                  1328 non-null   object \n",
      " 2   number_of_courses_viewed  1462 non-null   int64  \n",
      " 3   annual_income             1281 non-null   float64\n",
      " 4   employment_status         1362 non-null   object \n",
      " 5   location                  1399 non-null   object \n",
      " 6   interaction_count         1462 non-null   int64  \n",
      " 7   lead_score                1462 non-null   float64\n",
      " 8   converted                 1462 non-null   int64  \n",
      "dtypes: float64(2), int64(3), object(4)\n",
      "memory usage: 102.9+ KB\n"
     ]
    }
   ],
   "source": [
    "df.info()"
   ]
  },
  {
   "cell_type": "code",
   "execution_count": 4,
   "id": "1d14821e-477b-444b-88f4-7568d77d46fe",
   "metadata": {},
   "outputs": [
    {
     "data": {
      "text/plain": [
       "lead_source                 128\n",
       "industry                    134\n",
       "number_of_courses_viewed      0\n",
       "annual_income               181\n",
       "employment_status           100\n",
       "location                     63\n",
       "interaction_count             0\n",
       "lead_score                    0\n",
       "converted                     0\n",
       "dtype: int64"
      ]
     },
     "execution_count": 4,
     "metadata": {},
     "output_type": "execute_result"
    }
   ],
   "source": [
    "# check if there are missing values in the df\n",
    "df.isnull().sum()"
   ]
  },
  {
   "cell_type": "code",
   "execution_count": 5,
   "id": "ef34ebd1-af33-4883-9fd2-d66a7811fb7d",
   "metadata": {},
   "outputs": [
    {
     "data": {
      "text/plain": [
       "lead_source                 0\n",
       "industry                    0\n",
       "number_of_courses_viewed    0\n",
       "annual_income               0\n",
       "employment_status           0\n",
       "location                    0\n",
       "interaction_count           0\n",
       "lead_score                  0\n",
       "converted                   0\n",
       "dtype: int64"
      ]
     },
     "execution_count": 5,
     "metadata": {},
     "output_type": "execute_result"
    }
   ],
   "source": [
    "# Replacing missing values\n",
    "\n",
    "for col in df.columns:\n",
    "    if df[col].dtype == 'object':\n",
    "        df[col] = df[col].fillna('NA')\n",
    "    elif np.issubdtype(df[col].dtype, np.number):\n",
    "        df[col] = df[col].fillna(0)\n",
    "    else: print('Type unexpected')\n",
    "\n",
    "df.isnull().sum()"
   ]
  },
  {
   "cell_type": "code",
   "execution_count": 9,
   "id": "27c939b9-882d-4ca1-94ff-45d5de66733a",
   "metadata": {},
   "outputs": [
    {
     "data": {
      "text/plain": [
       "(876, 293, 293)"
      ]
     },
     "execution_count": 9,
     "metadata": {},
     "output_type": "execute_result"
    }
   ],
   "source": [
    "# Splitting the data\n",
    "\n",
    "from sklearn.model_selection import train_test_split\n",
    "df_full_train, df_test = train_test_split(df, test_size=0.2, random_state=1)\n",
    "df_train, df_val = train_test_split(df_full_train, test_size=0.25, random_state=1)\n",
    "len(df_train), len(df_val), len(df_test)"
   ]
  },
  {
   "cell_type": "code",
   "execution_count": 10,
   "id": "46cad981-fbdb-4c66-b31a-20ce905de2ea",
   "metadata": {},
   "outputs": [],
   "source": [
    "df_train = df_train.reset_index(drop=True)\n",
    "df_val = df_val.reset_index(drop=True)\n",
    "df_test = df_test.reset_index(drop=True)"
   ]
  },
  {
   "cell_type": "code",
   "execution_count": 11,
   "id": "a44e993d-e6db-49d3-856d-1eed9b22ae27",
   "metadata": {},
   "outputs": [],
   "source": [
    "y_train = df_train.converted.values\n",
    "y_val = df_val.converted.values\n",
    "y_test = df_test.converted.values\n",
    "\n",
    "del df_train['converted']\n",
    "del df_val['converted']\n",
    "del df_test['converted']"
   ]
  },
  {
   "cell_type": "markdown",
   "id": "40fae86c-0601-41ec-a521-13d973e6195b",
   "metadata": {},
   "source": [
    "## Question 1: ROC AUC feature importance\n",
    "\n",
    "ROC AUC could also be used to evaluate feature importance of numerical variables.\n",
    "\n",
    "Let's do that\n",
    "\n",
    "* For each numerical variable, use it as score (aka prediction) and compute the AUC with the y variable as ground truth.\n",
    "* Use the training dataset for that\n",
    "  \n",
    "If your AUC is < 0.5, invert this variable by putting \"-\" in front\n",
    "\n",
    "(e.g. `-df_train['balance']`)\n",
    "\n",
    "AUC can go below 0.5 if the variable is negatively correlated with the target variable. You can change the direction of the correlation by negating this variable - then negative correlation becomes positive.\n",
    "\n",
    "Which numerical variable (among the following 4) has the highest AUC?\n",
    "\n",
    "* `lead_score`\n",
    "* `number_of_courses_viewed`\n",
    "* `interaction_count`\n",
    "* `annual_income`"
   ]
  },
  {
   "cell_type": "code",
   "execution_count": 16,
   "id": "73595131-235c-44be-b800-77b1400a17ac",
   "metadata": {},
   "outputs": [],
   "source": [
    "df_numeric = df.select_dtypes(include='number')\n",
    "del df_numeric['converted']\n",
    "numerical= df_numeric.columns.values"
   ]
  },
  {
   "cell_type": "code",
   "execution_count": 19,
   "id": "5785a870-df56-41bb-8959-832c433deadd",
   "metadata": {},
   "outputs": [
    {
     "name": "stdout",
     "output_type": "stream",
     "text": [
      "number_of_courses_viewed has AUC of 0.764\n",
      "annual_income has AUC of 0.552\n",
      "interaction_count has AUC of 0.738\n",
      "lead_score has AUC of 0.614\n"
     ]
    }
   ],
   "source": [
    "for n in numerical:\n",
    "    auc_score = roc_auc_score(y_train, df_train[n])\n",
    "    if auc_score < 0.5:\n",
    "        auc_score = roc_auc_score(y_train, -df_train[n])\n",
    "    print(f\"{n} has AUC of {auc_score:.3f}\")"
   ]
  },
  {
   "cell_type": "markdown",
   "id": "8aa35bab-61e1-464c-a48a-29a58a705f4f",
   "metadata": {},
   "source": [
    "R/ `number_of_courses_viewed` has higuest AUC"
   ]
  },
  {
   "cell_type": "code",
   "execution_count": null,
   "id": "b7e12544-1f4b-4452-9e14-26183e98fd55",
   "metadata": {},
   "outputs": [],
   "source": []
  }
 ],
 "metadata": {
  "kernelspec": {
   "display_name": "Python 3 (ipykernel)",
   "language": "python",
   "name": "python3"
  },
  "language_info": {
   "codemirror_mode": {
    "name": "ipython",
    "version": 3
   },
   "file_extension": ".py",
   "mimetype": "text/x-python",
   "name": "python",
   "nbconvert_exporter": "python",
   "pygments_lexer": "ipython3",
   "version": "3.12.1"
  }
 },
 "nbformat": 4,
 "nbformat_minor": 5
}
